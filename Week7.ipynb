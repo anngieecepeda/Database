{
 "cells": [
  {
   "cell_type": "code",
   "execution_count": 85,
   "id": "b3b525dd-468d-4fb0-a4e4-895e6f40eb10",
   "metadata": {},
   "outputs": [],
   "source": [
    "#1"
   ]
  },
  {
   "cell_type": "code",
   "execution_count": 87,
   "id": "085263b3-0d3d-49ef-9c54-d46efcf11aed",
   "metadata": {},
   "outputs": [],
   "source": [
    "import mysql.connector\n",
    "import pandas as pd"
   ]
  },
  {
   "cell_type": "code",
   "execution_count": 107,
   "id": "beeeb325-33a2-43e3-8339-ab04276c7987",
   "metadata": {},
   "outputs": [],
   "source": [
    "cnx = mysql.connector.connect(user='root',\n",
    "                              password='12345678',\n",
    "                              host='localhost',\n",
    "                              database='WEEK4')"
   ]
  },
  {
   "cell_type": "code",
   "execution_count": 108,
   "id": "b80d2abb-2906-450d-b377-d53bebb38d65",
   "metadata": {},
   "outputs": [
    {
     "name": "stdout",
     "output_type": "stream",
     "text": [
      "***** query output presented as a Python list *****\n",
      "\n",
      "\n",
      "('S001', 'MICHAEL BEVAN', datetime.date(1960, 9, 15), Decimal('3.20'), 'CHATSWOOD')\n",
      "('S002', 'BRIAN LARA', datetime.date(1965, 2, 10), Decimal('4.00'), 'MARSFIELD')\n",
      "('S003', 'VIVAN RICHARDS', datetime.date(1958, 11, 12), Decimal('4.50'), 'BURWOOD')\n",
      "('S004', 'JAVED MIANDAD', datetime.date(1966, 5, 5), Decimal('3.50'), 'RYDE')\n",
      "('S005', 'VIRAT KOHLI', datetime.date(1988, 10, 15), Decimal('4.30'), 'AUBURN')\n",
      "('S006', 'BABAR AZAM', datetime.date(1991, 4, 20), Decimal('4.20'), 'LAKEMBA')\n",
      "('S007', 'KUMAR SANGAKARA', datetime.date(1980, 1, 26), Decimal('3.70'), 'REDFERN')\n",
      "\n",
      "\n",
      "\n",
      "***** query output presented as a pands dataframe *****\n",
      "\n",
      "\n",
      "  STUDENTID      STUDENTNAME  STUDENTDOB  STUDENTGPA STUDENTSUBURB\n",
      "0      S001    MICHAEL BEVAN  1960-09-15         3.2     CHATSWOOD\n",
      "1      S002       BRIAN LARA  1965-02-10         4.0     MARSFIELD\n",
      "2      S003   VIVAN RICHARDS  1958-11-12         4.5       BURWOOD\n",
      "3      S004    JAVED MIANDAD  1966-05-05         3.5          RYDE\n",
      "4      S005      VIRAT KOHLI  1988-10-15         4.3        AUBURN\n",
      "5      S006       BABAR AZAM  1991-04-20         4.2       LAKEMBA\n",
      "6      S007  KUMAR SANGAKARA  1980-01-26         3.7       REDFERN\n"
     ]
    },
    {
     "name": "stderr",
     "output_type": "stream",
     "text": [
      "/var/folders/fx/rw52dq793g54r_t0gw3nfrkh0000gn/T/ipykernel_75696/1281058803.py:12: UserWarning: pandas only supports SQLAlchemy connectable (engine/connection) or database string URI or sqlite3 DBAPI2 connection. Other DBAPI2 objects are not tested. Please consider using SQLAlchemy.\n",
      "  df = pd.read_sql_query(\"select * from STUDENT \", cnx)\n"
     ]
    }
   ],
   "source": [
    "cursor = cnx.cursor()\n",
    "cursor.execute(\"select * from STUDENT \")\n",
    "rows = cursor.fetchall()\n",
    "print(\"***** query output presented as a Python list *****\")\n",
    "print(\"\\n\")\n",
    "for row in rows:\n",
    "    print(row)\n",
    "\n",
    "print(\"\\n\\n\")\n",
    "print(\"***** query output presented as a pands dataframe *****\")\n",
    "print(\"\\n\")\n",
    "df = pd.read_sql_query(\"select * from STUDENT \", cnx)\n",
    "print(df)\n"
   ]
  },
  {
   "cell_type": "code",
   "execution_count": 110,
   "id": "3740da58-2961-4693-980e-9fcb435b67d8",
   "metadata": {},
   "outputs": [
    {
     "name": "stdout",
     "output_type": "stream",
     "text": [
      "       STUDENTNAME  STUDENTGPA\n",
      "0    MICHAEL BEVAN         3.2\n",
      "1    JAVED MIANDAD         3.5\n",
      "2  KUMAR SANGAKARA         3.7\n",
      "3       BRIAN LARA         4.0\n",
      "4       BABAR AZAM         4.2\n",
      "5      VIRAT KOHLI         4.3\n",
      "6   VIVAN RICHARDS         4.5\n"
     ]
    },
    {
     "name": "stderr",
     "output_type": "stream",
     "text": [
      "/var/folders/fx/rw52dq793g54r_t0gw3nfrkh0000gn/T/ipykernel_75696/4203235131.py:3: UserWarning: pandas only supports SQLAlchemy connectable (engine/connection) or database string URI or sqlite3 DBAPI2 connection. Other DBAPI2 objects are not tested. Please consider using SQLAlchemy.\n",
      "  df = pd.read_sql_query(\"\"\"SELECT STUDENTNAME, STUDENTGPA\n"
     ]
    }
   ],
   "source": [
    "#2\n",
    "\n",
    "df = pd.read_sql_query(\"\"\"SELECT STUDENTNAME, STUDENTGPA \n",
    "FROM STUDENT\n",
    "ORDER BY STUDENTGPA ASC \"\"\",cnx)\n",
    "print(df)"
   ]
  },
  {
   "cell_type": "code",
   "execution_count": 112,
   "id": "4eb0dbbe-b6dd-4a57-95c3-5e75cfa0e66b",
   "metadata": {},
   "outputs": [
    {
     "name": "stdout",
     "output_type": "stream",
     "text": [
      "  TEACHERID       TEACHERNAME   TEACHERDESIGNATION  TEACHERSALARY\n",
      "0      T004  SHAKIB UL HASSAN             LECTURER         100000\n",
      "1      T007        DALE STAYN      SENIOR LECTURER         120000\n",
      "2      T006        BEN STOKES             LECTURER         130000\n",
      "3      T005    LARNCE KLUSNER            ASSOCIATE         150000\n",
      "4      T008     GLENN MCGRATH  ASSOCIATE PROFESSOR         160000\n",
      "5      T001       WASIM AKRAM  ASSOCIATE PROFESSOR         200000\n",
      "6      T003         KAPEL DEV            PROFESSOR         230000\n",
      "7      T002        IMRAN KHAN            PROFESSOR         250000\n"
     ]
    },
    {
     "name": "stderr",
     "output_type": "stream",
     "text": [
      "/var/folders/fx/rw52dq793g54r_t0gw3nfrkh0000gn/T/ipykernel_75696/2358826656.py:2: UserWarning: pandas only supports SQLAlchemy connectable (engine/connection) or database string URI or sqlite3 DBAPI2 connection. Other DBAPI2 objects are not tested. Please consider using SQLAlchemy.\n",
      "  df = pd.read_sql_query(\"\"\" SELECT * FROM TEACHER\n"
     ]
    }
   ],
   "source": [
    "#3 \n",
    "df = pd.read_sql_query(\"\"\" SELECT * FROM TEACHER\n",
    "ORDER BY TEACHERSALARY,TEACHERDESIGNATION ASC \"\"\", cnx)\n",
    "print(df)"
   ]
  },
  {
   "cell_type": "code",
   "execution_count": 114,
   "id": "77459ee8-40ed-4817-b0e2-09b216ef8b0c",
   "metadata": {},
   "outputs": [
    {
     "name": "stdout",
     "output_type": "stream",
     "text": [
      "     STUDENTNAME ENROLMENTID SEMESTER  STUDYYEAR STUDENTID UNITCODE\n",
      "0  MICHAEL BEVAN        E001   SPRING       2020      S001   MDS600\n",
      "1  MICHAEL BEVAN        E002   SPRING       2020      S001   MDS601\n",
      "2     BRIAN LARA        E004     FALL       2010      S002   MDS604\n",
      "3  JAVED MIANDAD        E006   WINTER       2020      S004   MDS606\n",
      "4     BABAR AZAM        E008     FALL       2022      S006   MDS600\n"
     ]
    },
    {
     "name": "stderr",
     "output_type": "stream",
     "text": [
      "/var/folders/fx/rw52dq793g54r_t0gw3nfrkh0000gn/T/ipykernel_75696/3599595950.py:2: UserWarning: pandas only supports SQLAlchemy connectable (engine/connection) or database string URI or sqlite3 DBAPI2 connection. Other DBAPI2 objects are not tested. Please consider using SQLAlchemy.\n",
      "  df = pd.read_sql_query(\"\"\" SELECT S.STUDENTNAME, E. *\n"
     ]
    }
   ],
   "source": [
    "#4\n",
    "df = pd.read_sql_query(\"\"\" SELECT S.STUDENTNAME, E. *\n",
    "FROM STUDENT S, ENROLMENT E\n",
    "WHERE S.STUDENTID=E.STUDENTID\n",
    "AND STUDYYEAR IN (2010, 2020, 2022)\"\"\", cnx)\n",
    "print(df)"
   ]
  },
  {
   "cell_type": "code",
   "execution_count": 115,
   "id": "1e04fb76-04a7-4fe0-8e8e-2ed40340e418",
   "metadata": {},
   "outputs": [
    {
     "name": "stdout",
     "output_type": "stream",
     "text": [
      "      STUDENTNAME\n",
      "0   MICHAEL BEVAN\n",
      "1   JAVED MIANDAD\n",
      "2   MICHAEL BEVAN\n",
      "3  VIVAN RICHARDS\n"
     ]
    },
    {
     "name": "stderr",
     "output_type": "stream",
     "text": [
      "/var/folders/fx/rw52dq793g54r_t0gw3nfrkh0000gn/T/ipykernel_75696/894011983.py:2: UserWarning: pandas only supports SQLAlchemy connectable (engine/connection) or database string URI or sqlite3 DBAPI2 connection. Other DBAPI2 objects are not tested. Please consider using SQLAlchemy.\n",
      "  df = pd.read_sql_query(\"\"\"SELECT STUDENTNAME\n"
     ]
    }
   ],
   "source": [
    "#5\n",
    "df = pd.read_sql_query(\"\"\"SELECT STUDENTNAME \n",
    "FROM STUDENT S, ENROLMENT E\n",
    "WHERE S.STUDENTID=E.STUDENTID \n",
    "AND UNITCODE=\"MDS601\"\n",
    "UNION ALL\n",
    "SELECT STUDENTNAME \n",
    "FROM STUDENT S, ENROLMENT E\n",
    "WHERE S.STUDENTID=E.STUDENTID \n",
    "AND UNITCODE='MDS603' \"\"\",cnx)\n",
    "print(df)"
   ]
  },
  {
   "cell_type": "code",
   "execution_count": 117,
   "id": "41c7e220-2358-432e-aa18-2bf37a058316",
   "metadata": {},
   "outputs": [
    {
     "name": "stdout",
     "output_type": "stream",
     "text": [
      "      STUDENTNAME\n",
      "0   MICHAEL BEVAN\n",
      "1   JAVED MIANDAD\n",
      "2  VIVAN RICHARDS\n"
     ]
    },
    {
     "name": "stderr",
     "output_type": "stream",
     "text": [
      "/var/folders/fx/rw52dq793g54r_t0gw3nfrkh0000gn/T/ipykernel_75696/3815922107.py:3: UserWarning: pandas only supports SQLAlchemy connectable (engine/connection) or database string URI or sqlite3 DBAPI2 connection. Other DBAPI2 objects are not tested. Please consider using SQLAlchemy.\n",
      "  df = pd.read_sql_query(\"\"\"SELECT STUDENTNAME\n"
     ]
    }
   ],
   "source": [
    "#6 ESTA NO SUPIMOS SI ESTABA BIEN\n",
    "\n",
    "df = pd.read_sql_query(\"\"\"SELECT STUDENTNAME \n",
    "FROM STUDENT S, ENROLMENT E\n",
    "WHERE S.STUDENTID=E.STUDENTID \n",
    "AND UNITCODE=\"MDS601\"\n",
    "UNION\n",
    "SELECT STUDENTNAME \n",
    "FROM STUDENT S, ENROLMENT E\n",
    "WHERE S.STUDENTID=E.STUDENTID \n",
    "AND UNITCODE='MDS603' \"\"\",cnx)\n",
    "print(df)"
   ]
  },
  {
   "cell_type": "code",
   "execution_count": 118,
   "id": "0f5c1c79-1e0f-40f6-bca2-a64663fd0aaf",
   "metadata": {},
   "outputs": [
    {
     "name": "stderr",
     "output_type": "stream",
     "text": [
      "/var/folders/fx/rw52dq793g54r_t0gw3nfrkh0000gn/T/ipykernel_75696/3987160559.py:2: UserWarning: pandas only supports SQLAlchemy connectable (engine/connection) or database string URI or sqlite3 DBAPI2 connection. Other DBAPI2 objects are not tested. Please consider using SQLAlchemy.\n",
      "  df = pd.read_sql_query(\"\"\" SELECT UNITCODE,  FROM ENROLMENT\n"
     ]
    },
    {
     "ename": "DatabaseError",
     "evalue": "Execution failed on sql ' SELECT UNITCODE,  FROM ENROLMENT\nWHERE SEMESTER='SPRING' AND STUDYYEAR='2020'\nAND UNITCODE IN (SELECT UNITCODE FROM ENROLMENT\nWHERE SEMESTER='FALL' AND STUDYYEAR='2022') ': 1064 (42000): You have an error in your SQL syntax; check the manual that corresponds to your MySQL server version for the right syntax to use near 'FROM ENROLMENT\nWHERE SEMESTER='SPRING' AND STUDYYEAR='2020'\nAND UNITCODE IN (SEL' at line 1",
     "output_type": "error",
     "traceback": [
      "\u001b[0;31m---------------------------------------------------------------------------\u001b[0m",
      "\u001b[0;31mProgrammingError\u001b[0m                          Traceback (most recent call last)",
      "File \u001b[0;32m/opt/anaconda3/lib/python3.12/site-packages/pandas/io/sql.py:2674\u001b[0m, in \u001b[0;36mSQLiteDatabase.execute\u001b[0;34m(self, sql, params)\u001b[0m\n\u001b[1;32m   2673\u001b[0m \u001b[38;5;28;01mtry\u001b[39;00m:\n\u001b[0;32m-> 2674\u001b[0m     cur\u001b[38;5;241m.\u001b[39mexecute(sql, \u001b[38;5;241m*\u001b[39margs)\n\u001b[1;32m   2675\u001b[0m     \u001b[38;5;28;01mreturn\u001b[39;00m cur\n",
      "File \u001b[0;32m/opt/anaconda3/lib/python3.12/site-packages/mysql/connector/cursor.py:416\u001b[0m, in \u001b[0;36mMySQLCursor.execute\u001b[0;34m(self, operation, params, map_results)\u001b[0m\n\u001b[1;32m    409\u001b[0m \u001b[38;5;28mself\u001b[39m\u001b[38;5;241m.\u001b[39m_executed \u001b[38;5;241m=\u001b[39m (\n\u001b[1;32m    410\u001b[0m     \u001b[38;5;28mself\u001b[39m\u001b[38;5;241m.\u001b[39m_stmt_partition[\u001b[38;5;124m\"\u001b[39m\u001b[38;5;124msingle_stmts\u001b[39m\u001b[38;5;124m\"\u001b[39m]\u001b[38;5;241m.\u001b[39mpopleft()\n\u001b[1;32m    411\u001b[0m     \u001b[38;5;28;01mif\u001b[39;00m map_results\n\u001b[1;32m    412\u001b[0m     \u001b[38;5;28;01melse\u001b[39;00m \u001b[38;5;28mself\u001b[39m\u001b[38;5;241m.\u001b[39m_stmt_partition[\u001b[38;5;124m\"\u001b[39m\u001b[38;5;124mmappable_stmt\u001b[39m\u001b[38;5;124m\"\u001b[39m]\n\u001b[1;32m    413\u001b[0m )\n\u001b[1;32m    415\u001b[0m \u001b[38;5;28mself\u001b[39m\u001b[38;5;241m.\u001b[39m_handle_result(\n\u001b[0;32m--> 416\u001b[0m     \u001b[38;5;28mself\u001b[39m\u001b[38;5;241m.\u001b[39m_connection\u001b[38;5;241m.\u001b[39mcmd_query(\n\u001b[1;32m    417\u001b[0m         \u001b[38;5;28mself\u001b[39m\u001b[38;5;241m.\u001b[39m_stmt_partition[\u001b[38;5;124m\"\u001b[39m\u001b[38;5;124mmappable_stmt\u001b[39m\u001b[38;5;124m\"\u001b[39m],\n\u001b[1;32m    418\u001b[0m         read_timeout\u001b[38;5;241m=\u001b[39m\u001b[38;5;28mself\u001b[39m\u001b[38;5;241m.\u001b[39m_read_timeout,\n\u001b[1;32m    419\u001b[0m         write_timeout\u001b[38;5;241m=\u001b[39m\u001b[38;5;28mself\u001b[39m\u001b[38;5;241m.\u001b[39m_write_timeout,\n\u001b[1;32m    420\u001b[0m     )\n\u001b[1;32m    421\u001b[0m )\n\u001b[1;32m    423\u001b[0m \u001b[38;5;28;01mreturn\u001b[39;00m \u001b[38;5;28;01mNone\u001b[39;00m\n",
      "File \u001b[0;32m/opt/anaconda3/lib/python3.12/site-packages/mysql/connector/opentelemetry/context_propagation.py:97\u001b[0m, in \u001b[0;36mwith_context_propagation.<locals>.wrapper\u001b[0;34m(cnx, *args, **kwargs)\u001b[0m\n\u001b[1;32m     96\u001b[0m \u001b[38;5;28;01mif\u001b[39;00m \u001b[38;5;129;01mnot\u001b[39;00m OTEL_ENABLED \u001b[38;5;129;01mor\u001b[39;00m \u001b[38;5;129;01mnot\u001b[39;00m cnx\u001b[38;5;241m.\u001b[39motel_context_propagation:\n\u001b[0;32m---> 97\u001b[0m     \u001b[38;5;28;01mreturn\u001b[39;00m method(cnx, \u001b[38;5;241m*\u001b[39margs, \u001b[38;5;241m*\u001b[39m\u001b[38;5;241m*\u001b[39mkwargs)\n\u001b[1;32m     99\u001b[0m current_span \u001b[38;5;241m=\u001b[39m trace\u001b[38;5;241m.\u001b[39mget_current_span()\n",
      "File \u001b[0;32m/opt/anaconda3/lib/python3.12/site-packages/mysql/connector/_decorating.py:89\u001b[0m, in \u001b[0;36mhandle_read_write_timeout.<locals>.decorator.<locals>.handle_cnx_method\u001b[0;34m(cnx, *args, **kwargs)\u001b[0m\n\u001b[1;32m     88\u001b[0m     cnx\u001b[38;5;241m.\u001b[39mclose()\n\u001b[0;32m---> 89\u001b[0m \u001b[38;5;28;01mraise\u001b[39;00m err\n",
      "File \u001b[0;32m/opt/anaconda3/lib/python3.12/site-packages/mysql/connector/_decorating.py:85\u001b[0m, in \u001b[0;36mhandle_read_write_timeout.<locals>.decorator.<locals>.handle_cnx_method\u001b[0;34m(cnx, *args, **kwargs)\u001b[0m\n\u001b[1;32m     84\u001b[0m \u001b[38;5;28;01mtry\u001b[39;00m:\n\u001b[0;32m---> 85\u001b[0m     \u001b[38;5;28;01mreturn\u001b[39;00m cnx_method(cnx, \u001b[38;5;241m*\u001b[39margs, \u001b[38;5;241m*\u001b[39m\u001b[38;5;241m*\u001b[39mkwargs)\n\u001b[1;32m     86\u001b[0m \u001b[38;5;28;01mexcept\u001b[39;00m \u001b[38;5;167;01mException\u001b[39;00m \u001b[38;5;28;01mas\u001b[39;00m err:\n",
      "File \u001b[0;32m/opt/anaconda3/lib/python3.12/site-packages/mysql/connector/connection.py:984\u001b[0m, in \u001b[0;36mMySQLConnection.cmd_query\u001b[0;34m(self, query, raw, buffered, raw_as_string, **kwargs)\u001b[0m\n\u001b[1;32m    982\u001b[0m     write_timeout \u001b[38;5;241m=\u001b[39m kwargs\u001b[38;5;241m.\u001b[39mget(\u001b[38;5;124m\"\u001b[39m\u001b[38;5;124mwrite_timeout\u001b[39m\u001b[38;5;124m\"\u001b[39m, \u001b[38;5;28;01mNone\u001b[39;00m)\n\u001b[0;32m--> 984\u001b[0m     result \u001b[38;5;241m=\u001b[39m \u001b[38;5;28mself\u001b[39m\u001b[38;5;241m.\u001b[39m_handle_result(\n\u001b[1;32m    985\u001b[0m         \u001b[38;5;28mself\u001b[39m\u001b[38;5;241m.\u001b[39m_send_cmd(\n\u001b[1;32m    986\u001b[0m             ServerCmd\u001b[38;5;241m.\u001b[39mQUERY,\n\u001b[1;32m    987\u001b[0m             query,\n\u001b[1;32m    988\u001b[0m             read_timeout\u001b[38;5;241m=\u001b[39mread_timeout,\n\u001b[1;32m    989\u001b[0m             write_timeout\u001b[38;5;241m=\u001b[39mwrite_timeout,\n\u001b[1;32m    990\u001b[0m         ),\n\u001b[1;32m    991\u001b[0m         read_timeout,\n\u001b[1;32m    992\u001b[0m         write_timeout,\n\u001b[1;32m    993\u001b[0m     )\n\u001b[1;32m    994\u001b[0m \u001b[38;5;28;01mexcept\u001b[39;00m ProgrammingError \u001b[38;5;28;01mas\u001b[39;00m err:\n",
      "File \u001b[0;32m/opt/anaconda3/lib/python3.12/site-packages/mysql/connector/_decorating.py:89\u001b[0m, in \u001b[0;36mhandle_read_write_timeout.<locals>.decorator.<locals>.handle_cnx_method\u001b[0;34m(cnx, *args, **kwargs)\u001b[0m\n\u001b[1;32m     88\u001b[0m     cnx\u001b[38;5;241m.\u001b[39mclose()\n\u001b[0;32m---> 89\u001b[0m \u001b[38;5;28;01mraise\u001b[39;00m err\n",
      "File \u001b[0;32m/opt/anaconda3/lib/python3.12/site-packages/mysql/connector/_decorating.py:85\u001b[0m, in \u001b[0;36mhandle_read_write_timeout.<locals>.decorator.<locals>.handle_cnx_method\u001b[0;34m(cnx, *args, **kwargs)\u001b[0m\n\u001b[1;32m     84\u001b[0m \u001b[38;5;28;01mtry\u001b[39;00m:\n\u001b[0;32m---> 85\u001b[0m     \u001b[38;5;28;01mreturn\u001b[39;00m cnx_method(cnx, \u001b[38;5;241m*\u001b[39margs, \u001b[38;5;241m*\u001b[39m\u001b[38;5;241m*\u001b[39mkwargs)\n\u001b[1;32m     86\u001b[0m \u001b[38;5;28;01mexcept\u001b[39;00m \u001b[38;5;167;01mException\u001b[39;00m \u001b[38;5;28;01mas\u001b[39;00m err:\n",
      "File \u001b[0;32m/opt/anaconda3/lib/python3.12/site-packages/mysql/connector/connection.py:745\u001b[0m, in \u001b[0;36mMySQLConnection._handle_result\u001b[0;34m(self, packet, read_timeout, write_timeout)\u001b[0m\n\u001b[1;32m    744\u001b[0m \u001b[38;5;28;01mif\u001b[39;00m packet[\u001b[38;5;241m4\u001b[39m] \u001b[38;5;241m==\u001b[39m ERR_STATUS:\n\u001b[0;32m--> 745\u001b[0m     \u001b[38;5;28;01mraise\u001b[39;00m get_exception(packet)\n\u001b[1;32m    747\u001b[0m \u001b[38;5;66;03m# We have a text result set\u001b[39;00m\n",
      "\u001b[0;31mProgrammingError\u001b[0m: 1064 (42000): You have an error in your SQL syntax; check the manual that corresponds to your MySQL server version for the right syntax to use near 'FROM ENROLMENT\nWHERE SEMESTER='SPRING' AND STUDYYEAR='2020'\nAND UNITCODE IN (SEL' at line 1",
      "\nThe above exception was the direct cause of the following exception:\n",
      "\u001b[0;31mDatabaseError\u001b[0m                             Traceback (most recent call last)",
      "Cell \u001b[0;32mIn[118], line 2\u001b[0m\n\u001b[1;32m      1\u001b[0m \u001b[38;5;66;03m#7\u001b[39;00m\n\u001b[0;32m----> 2\u001b[0m df \u001b[38;5;241m=\u001b[39m pd\u001b[38;5;241m.\u001b[39mread_sql_query(\u001b[38;5;124m\"\"\"\u001b[39m\u001b[38;5;124m SELECT UNITCODE,  FROM ENROLMENT\u001b[39m\n\u001b[1;32m      3\u001b[0m \u001b[38;5;124mWHERE SEMESTER=\u001b[39m\u001b[38;5;124m'\u001b[39m\u001b[38;5;124mSPRING\u001b[39m\u001b[38;5;124m'\u001b[39m\u001b[38;5;124m AND STUDYYEAR=\u001b[39m\u001b[38;5;124m'\u001b[39m\u001b[38;5;124m2020\u001b[39m\u001b[38;5;124m'\u001b[39m\n\u001b[1;32m      4\u001b[0m \u001b[38;5;124mAND UNITCODE IN (SELECT UNITCODE FROM ENROLMENT\u001b[39m\n\u001b[1;32m      5\u001b[0m \u001b[38;5;124mWHERE SEMESTER=\u001b[39m\u001b[38;5;124m'\u001b[39m\u001b[38;5;124mFALL\u001b[39m\u001b[38;5;124m'\u001b[39m\u001b[38;5;124m AND STUDYYEAR=\u001b[39m\u001b[38;5;124m'\u001b[39m\u001b[38;5;124m2022\u001b[39m\u001b[38;5;124m'\u001b[39m\u001b[38;5;124m) \u001b[39m\u001b[38;5;124m\"\"\"\u001b[39m, cnx)\n\u001b[1;32m      6\u001b[0m \u001b[38;5;28mprint\u001b[39m(df)\n",
      "File \u001b[0;32m/opt/anaconda3/lib/python3.12/site-packages/pandas/io/sql.py:526\u001b[0m, in \u001b[0;36mread_sql_query\u001b[0;34m(sql, con, index_col, coerce_float, params, parse_dates, chunksize, dtype, dtype_backend)\u001b[0m\n\u001b[1;32m    523\u001b[0m \u001b[38;5;28;01massert\u001b[39;00m dtype_backend \u001b[38;5;129;01mis\u001b[39;00m \u001b[38;5;129;01mnot\u001b[39;00m lib\u001b[38;5;241m.\u001b[39mno_default\n\u001b[1;32m    525\u001b[0m \u001b[38;5;28;01mwith\u001b[39;00m pandasSQL_builder(con) \u001b[38;5;28;01mas\u001b[39;00m pandas_sql:\n\u001b[0;32m--> 526\u001b[0m     \u001b[38;5;28;01mreturn\u001b[39;00m pandas_sql\u001b[38;5;241m.\u001b[39mread_query(\n\u001b[1;32m    527\u001b[0m         sql,\n\u001b[1;32m    528\u001b[0m         index_col\u001b[38;5;241m=\u001b[39mindex_col,\n\u001b[1;32m    529\u001b[0m         params\u001b[38;5;241m=\u001b[39mparams,\n\u001b[1;32m    530\u001b[0m         coerce_float\u001b[38;5;241m=\u001b[39mcoerce_float,\n\u001b[1;32m    531\u001b[0m         parse_dates\u001b[38;5;241m=\u001b[39mparse_dates,\n\u001b[1;32m    532\u001b[0m         chunksize\u001b[38;5;241m=\u001b[39mchunksize,\n\u001b[1;32m    533\u001b[0m         dtype\u001b[38;5;241m=\u001b[39mdtype,\n\u001b[1;32m    534\u001b[0m         dtype_backend\u001b[38;5;241m=\u001b[39mdtype_backend,\n\u001b[1;32m    535\u001b[0m     )\n",
      "File \u001b[0;32m/opt/anaconda3/lib/python3.12/site-packages/pandas/io/sql.py:2738\u001b[0m, in \u001b[0;36mSQLiteDatabase.read_query\u001b[0;34m(self, sql, index_col, coerce_float, parse_dates, params, chunksize, dtype, dtype_backend)\u001b[0m\n\u001b[1;32m   2727\u001b[0m \u001b[38;5;28;01mdef\u001b[39;00m \u001b[38;5;21mread_query\u001b[39m(\n\u001b[1;32m   2728\u001b[0m     \u001b[38;5;28mself\u001b[39m,\n\u001b[1;32m   2729\u001b[0m     sql,\n\u001b[0;32m   (...)\u001b[0m\n\u001b[1;32m   2736\u001b[0m     dtype_backend: DtypeBackend \u001b[38;5;241m|\u001b[39m Literal[\u001b[38;5;124m\"\u001b[39m\u001b[38;5;124mnumpy\u001b[39m\u001b[38;5;124m\"\u001b[39m] \u001b[38;5;241m=\u001b[39m \u001b[38;5;124m\"\u001b[39m\u001b[38;5;124mnumpy\u001b[39m\u001b[38;5;124m\"\u001b[39m,\n\u001b[1;32m   2737\u001b[0m ) \u001b[38;5;241m-\u001b[39m\u001b[38;5;241m>\u001b[39m DataFrame \u001b[38;5;241m|\u001b[39m Iterator[DataFrame]:\n\u001b[0;32m-> 2738\u001b[0m     cursor \u001b[38;5;241m=\u001b[39m \u001b[38;5;28mself\u001b[39m\u001b[38;5;241m.\u001b[39mexecute(sql, params)\n\u001b[1;32m   2739\u001b[0m     columns \u001b[38;5;241m=\u001b[39m [col_desc[\u001b[38;5;241m0\u001b[39m] \u001b[38;5;28;01mfor\u001b[39;00m col_desc \u001b[38;5;129;01min\u001b[39;00m cursor\u001b[38;5;241m.\u001b[39mdescription]\n\u001b[1;32m   2741\u001b[0m     \u001b[38;5;28;01mif\u001b[39;00m chunksize \u001b[38;5;129;01mis\u001b[39;00m \u001b[38;5;129;01mnot\u001b[39;00m \u001b[38;5;28;01mNone\u001b[39;00m:\n",
      "File \u001b[0;32m/opt/anaconda3/lib/python3.12/site-packages/pandas/io/sql.py:2686\u001b[0m, in \u001b[0;36mSQLiteDatabase.execute\u001b[0;34m(self, sql, params)\u001b[0m\n\u001b[1;32m   2683\u001b[0m     \u001b[38;5;28;01mraise\u001b[39;00m ex \u001b[38;5;28;01mfrom\u001b[39;00m \u001b[38;5;21;01minner_exc\u001b[39;00m\n\u001b[1;32m   2685\u001b[0m ex \u001b[38;5;241m=\u001b[39m DatabaseError(\u001b[38;5;124mf\u001b[39m\u001b[38;5;124m\"\u001b[39m\u001b[38;5;124mExecution failed on sql \u001b[39m\u001b[38;5;124m'\u001b[39m\u001b[38;5;132;01m{\u001b[39;00msql\u001b[38;5;132;01m}\u001b[39;00m\u001b[38;5;124m'\u001b[39m\u001b[38;5;124m: \u001b[39m\u001b[38;5;132;01m{\u001b[39;00mexc\u001b[38;5;132;01m}\u001b[39;00m\u001b[38;5;124m\"\u001b[39m)\n\u001b[0;32m-> 2686\u001b[0m \u001b[38;5;28;01mraise\u001b[39;00m ex \u001b[38;5;28;01mfrom\u001b[39;00m \u001b[38;5;21;01mexc\u001b[39;00m\n",
      "\u001b[0;31mDatabaseError\u001b[0m: Execution failed on sql ' SELECT UNITCODE,  FROM ENROLMENT\nWHERE SEMESTER='SPRING' AND STUDYYEAR='2020'\nAND UNITCODE IN (SELECT UNITCODE FROM ENROLMENT\nWHERE SEMESTER='FALL' AND STUDYYEAR='2022') ': 1064 (42000): You have an error in your SQL syntax; check the manual that corresponds to your MySQL server version for the right syntax to use near 'FROM ENROLMENT\nWHERE SEMESTER='SPRING' AND STUDYYEAR='2020'\nAND UNITCODE IN (SEL' at line 1"
     ]
    }
   ],
   "source": [
    "#7\n",
    "df = pd.read_sql_query(\"\"\" SELECT UNITCODE,  FROM ENROLMENT\n",
    "WHERE SEMESTER='SPRING' AND STUDYYEAR='2020'\n",
    "AND UNITCODE IN (SELECT UNITCODE FROM ENROLMENT\n",
    "WHERE SEMESTER='FALL' AND STUDYYEAR='2022') \"\"\", cnx)\n",
    "print(df)"
   ]
  },
  {
   "cell_type": "code",
   "execution_count": 105,
   "id": "9e3b9d9c-698a-4902-9722-0ac47f0034f2",
   "metadata": {},
   "outputs": [
    {
     "name": "stdout",
     "output_type": "stream",
     "text": [
      "  UNITCODE SEMESTER  STUDYYEAR\n",
      "0   MDS601   SPRING       2020\n"
     ]
    },
    {
     "name": "stderr",
     "output_type": "stream",
     "text": [
      "/var/folders/fx/rw52dq793g54r_t0gw3nfrkh0000gn/T/ipykernel_75696/1006118350.py:2: UserWarning: pandas only supports SQLAlchemy connectable (engine/connection) or database string URI or sqlite3 DBAPI2 connection. Other DBAPI2 objects are not tested. Please consider using SQLAlchemy.\n",
      "  df = pd.read_sql_query(\"\"\" SELECT UNITCODE, SEMESTER, STUDYYEAR FROM ENROLMENT\n"
     ]
    }
   ],
   "source": [
    "#8\n",
    "df = pd.read_sql_query(\"\"\" SELECT UNITCODE, SEMESTER, STUDYYEAR FROM ENROLMENT\n",
    "WHERE SEMESTER='SPRING' AND STUDYYEAR='2020'\n",
    "AND UNITCODE NOT IN (SELECT UNITCODE FROM ENROLMENT\n",
    "WHERE SEMESTER='FALL' AND STUDYYEAR='2022') \"\"\", cnx)\n",
    "print(df)"
   ]
  },
  {
   "cell_type": "code",
   "execution_count": null,
   "id": "853e97be-b8ed-4907-bda1-b7e74ccb3235",
   "metadata": {},
   "outputs": [],
   "source": []
  }
 ],
 "metadata": {
  "kernelspec": {
   "display_name": "Python [conda env:base] *",
   "language": "python",
   "name": "conda-base-py"
  },
  "language_info": {
   "codemirror_mode": {
    "name": "ipython",
    "version": 3
   },
   "file_extension": ".py",
   "mimetype": "text/x-python",
   "name": "python",
   "nbconvert_exporter": "python",
   "pygments_lexer": "ipython3",
   "version": "3.12.7"
  }
 },
 "nbformat": 4,
 "nbformat_minor": 5
}
